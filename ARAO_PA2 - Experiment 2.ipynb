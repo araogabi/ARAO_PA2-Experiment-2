{
 "cells": [
  {
   "cell_type": "markdown",
   "id": "dd5cb6bb-f7db-441f-bc83-314bd8cf70d7",
   "metadata": {},
   "source": [
    "### EXPERIMENT 2: NUMERICAL PYTHON (NUMPY)"
   ]
  },
  {
   "cell_type": "markdown",
   "id": "fb8e5e02-b377-45b7-9b38-c38a7828db78",
   "metadata": {},
   "source": [
    "##### ---------------------------------------------------------------------------------------------------------------------------\n",
    "\n",
    "##### Name: ARAO, Angeline Jeannah E.\n",
    "##### Year & Section: 2ECE-A\n",
    "\n",
    "##### ---------------------------------------------------------------------------------------------------------------------------"
   ]
  },
  {
   "cell_type": "markdown",
   "id": "cced82ed-1d6c-463b-a098-99643f32b5f6",
   "metadata": {},
   "source": [
    "#### NORMALIZATION PROBLEM"
   ]
  },
  {
   "cell_type": "code",
   "execution_count": 31,
   "id": "e8f8e1c7-3336-442f-a5fa-9027022841f6",
   "metadata": {},
   "outputs": [
    {
     "name": "stdout",
     "output_type": "stream",
     "text": [
      "X:\n",
      " [[0.89576043 0.56682623 0.83266443 0.84418651 0.23891865]\n",
      " [0.63208289 0.01731075 0.76025075 0.40044869 0.44908465]\n",
      " [0.44161163 0.82336511 0.14203722 0.29711877 0.82812537]\n",
      " [0.38815146 0.3619528  0.1269165  0.24736121 0.15896497]\n",
      " [0.13460903 0.28715936 0.28861868 0.81265431 0.43149076]] \n",
      "\n",
      "Mean: 0.4563068464459606 \n",
      "\n",
      "Standard Deviation: 0.26855871479172577 \n",
      "\n",
      "Normalized 'X' Values:\n",
      " [[ 1.6363408   0.41152781  1.40139777  1.44430117 -0.80946247]\n",
      " [ 0.65451626 -1.6346373   1.13175959 -0.20799233 -0.02689242]\n",
      " [-0.05471882  1.36677101 -1.17020826 -0.59274964  1.38449622]\n",
      " [-0.25378206 -0.35133489 -1.22651149 -0.77802592 -1.10717643]\n",
      " [-1.19786773 -0.62983427 -0.62440038  1.32688847 -0.0924047 ]]\n"
     ]
    }
   ],
   "source": [
    "# Access the Numpy library\n",
    "import numpy as np\n",
    "\n",
    "# Create a random 5x5 ndarray and store it to variable X\n",
    "X = np.random.random((5,5))\n",
    "\n",
    "# Normalize X by utilizing .mean() and .std()\n",
    "X_normalized = (X - X.mean()) / X.std()\n",
    "\n",
    "# Save the normalized ndarray as 'X_normalized.npy'\n",
    "np.save('X_normalized.npy', X_normalized)\n",
    "\n",
    "# Result\n",
    "print(\"X:\\n\", X, \"\\n\\nMean:\", X.mean(), \"\\n\\nStandard Deviation:\", X.std(), \"\\n\\nNormalized 'X' Values:\\n\", np.load('X_normalized.npy'))"
   ]
  },
  {
   "cell_type": "markdown",
   "id": "4ba4a8cf-d664-45e7-83e8-ae57276ec262",
   "metadata": {},
   "source": [
    "#### DIVISIBLE BY 3 PROBLEM"
   ]
  },
  {
   "cell_type": "code",
   "execution_count": 57,
   "id": "1c89bf37-10ce-48c1-8b04-d7f469c37e4c",
   "metadata": {},
   "outputs": [
    {
     "name": "stdout",
     "output_type": "stream",
     "text": [
      "Squares of the First 100 Positive Integers:\n",
      " [[    1     4     9    16    25    36    49    64    81   100]\n",
      " [  121   144   169   196   225   256   289   324   361   400]\n",
      " [  441   484   529   576   625   676   729   784   841   900]\n",
      " [  961  1024  1089  1156  1225  1296  1369  1444  1521  1600]\n",
      " [ 1681  1764  1849  1936  2025  2116  2209  2304  2401  2500]\n",
      " [ 2601  2704  2809  2916  3025  3136  3249  3364  3481  3600]\n",
      " [ 3721  3844  3969  4096  4225  4356  4489  4624  4761  4900]\n",
      " [ 5041  5184  5329  5476  5625  5776  5929  6084  6241  6400]\n",
      " [ 6561  6724  6889  7056  7225  7396  7569  7744  7921  8100]\n",
      " [ 8281  8464  8649  8836  9025  9216  9409  9604  9801 10000]] \n",
      "\n",
      "\n",
      "The Numbers that are divisible by 3:\n",
      " [   9   36   81  144  225  324  441  576  729  900 1089 1296 1521 1764\n",
      " 2025 2304 2601 2916 3249 3600 3969 4356 4761 5184 5625 6084 6561 7056\n",
      " 7569 8100 8649 9216 9801]\n"
     ]
    }
   ],
   "source": [
    "# Access the Numpy library\n",
    "import numpy as np\n",
    "\n",
    "# Create a 10x10 ndarray with the squares of the first 100 positive integers\n",
    "A = np.array(range(1,101)) ** 2\n",
    "\n",
    "# Reshape array to 10x10\n",
    "A = A.reshape (10, 10)\n",
    "\n",
    "# Determine all elements divisible by 3\n",
    "div_by_3 = A[A % 3 == 0]\n",
    "\n",
    "# Save the values from div_by_3 as \".npy\"\n",
    "np.save('div_by_3.npy', div_by_3)\n",
    "\n",
    "# Result\n",
    "print (\"Squares of the First 100 Positive Integers:\\n\", A, \"\\n\\n\\nThe Numbers that are divisible by 3:\\n\", div_by_3)"
   ]
  }
 ],
 "metadata": {
  "kernelspec": {
   "display_name": "Python 3 (ipykernel)",
   "language": "python",
   "name": "python3"
  },
  "language_info": {
   "codemirror_mode": {
    "name": "ipython",
    "version": 3
   },
   "file_extension": ".py",
   "mimetype": "text/x-python",
   "name": "python",
   "nbconvert_exporter": "python",
   "pygments_lexer": "ipython3",
   "version": "3.12.4"
  }
 },
 "nbformat": 4,
 "nbformat_minor": 5
}
